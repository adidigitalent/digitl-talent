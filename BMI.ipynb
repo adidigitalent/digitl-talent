berat = 80
tinggiCentimeter = 165
tinggiMeter = tinggiCentimeter/100
BMI = berat / (tinggiMeter**2)

if BMI < 15:
    print("Very Severely Underweight")
if BMI >= 15 and BMI <= 16:
    print("Severely underweight")
if BMI >= 16 and BMI <= 18.5:
    print("Underweight")
if BMI >= 18.5 and BMI <= 25:
    print("Normal (healthy weight)")
if BMI >= 25 and BMI <= 30:
    print("Overweight")
if BMI >= 30 and BMI <= 35:
    print("Moderately obese")
if BMI >= 35 and BMI <= 40:
    print("Severly Obese")
if BMI > 40:
    print("Very Severly Obese")    

print(BMI)