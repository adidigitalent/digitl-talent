{
 "cells": [
  {
   "cell_type": "markdown",
   "metadata": {},
   "source": [
    "# 1 TUGAS LATIHAN 2 - Tugas List Nilai¶\n",
    "Diberikan sekumpulan Nilai Random antara 0 sampai dengan 100 sebanyak 250 nilai. Buatlah program untuk melakukan hal berikut:\n",
    "\n",
    "1. Tampilkan Angka Ganjil dari ke 250 nilai tersebut\n",
    "2. Tampilkan berapa banyak yang mendapatkan nilai lebih dari 70\n",
    "3. Tampilkan standar deviasi dari sekumpulan nilai tersebut\n",
    "4. Tampilkan nilai maksimum dan minimum\n",
    "5. Tampilkan modus dari sekumpulan nilai tersebut"
   ]
  },
  {
   "cell_type": "code",
   "execution_count": 1,
   "metadata": {},
   "outputs": [
    {
     "name": "stdout",
     "output_type": "stream",
     "text": [
      "[1, 55, 2, 79, 18, 69, 66, 14, 44, 16, 43, 85, 73, 9, 86, 52, 18, 58, 10, 55, 83, 22, 81, 35, 71, 71, 1, 46, 84, 48, 64, 83, 34, 53, 25, 42, 33, 49, 10, 27, 6, 39, 31, 20, 19, 46, 16, 35, 45, 40, 60, 39, 13, 8, 35, 35, 97, 46, 32, 30, 55, 47, 60, 34, 67, 3, 42, 78, 45, 94, 25, 16, 9, 1, 31, 54, 62, 61, 59, 76, 38, 41, 10, 67, 45, 44, 34, 3, 21, 27, 70, 90, 40, 65, 11, 27, 7, 89, 50, 10, 39, 64, 84, 6, 61, 94, 97, 78, 15, 84, 26, 33, 36, 64, 47, 97, 86, 48, 97, 39, 28, 90, 1, 55, 67, 99, 12, 18, 46, 9, 97, 23, 24, 29, 73, 18, 27, 99, 35, 23, 10, 47, 46, 41, 7, 82, 95, 44, 13, 7, 58, 7, 21, 15, 1, 19, 86, 27, 82, 56, 27, 51, 54, 26, 59, 15, 8, 71, 95, 21, 31, 80, 11, 24, 77, 86, 13, 32, 70, 8, 26, 23, 49, 83, 46, 65, 98, 7, 10, 95, 75, 52, 18, 79, 46, 13, 25, 71, 25, 87, 43, 26, 88, 49, 74, 31, 89, 97, 64, 81, 86, 25, 93, 60, 26, 2, 34, 29, 29, 35, 66, 72, 89, 15, 63, 1, 17, 65, 54, 25, 71, 40, 32, 72, 49, 38, 44, 87, 42, 7, 25, 60, 33, 85, 52, 16, 85, 79, 65, 48]\n"
     ]
    }
   ],
   "source": [
    "import random\n",
    "\n",
    "# GENERATE RANDOM\n",
    "nilaiTugas = []\n",
    "for i in range(250):\n",
    "    nilaiTugas.append(random.randrange(1,100,1))\n",
    "\n",
    "print(nilaiTugas)\n",
    "\n",
    "# TAMPILKAN:\n",
    "# ganjil\n",
    "# nilai > 70\n",
    "# standar deviasi\n",
    "# maksimum\n",
    "# minimum\n",
    "# modus"
   ]
  },
  {
   "cell_type": "code",
   "execution_count": 5,
   "metadata": {},
   "outputs": [
    {
     "name": "stdout",
     "output_type": "stream",
     "text": [
      "Nilai Ganjil Adalah Sebagai Berikut  \n",
      " [1, 55, 79, 69, 43, 85, 73, 9, 55, 83, 81, 35, 71, 71, 1, 83, 53, 25, 33, 49, 27, 39, 31, 19, 35, 45, 39, 13, 35, 35, 97, 55, 47, 67, 3, 45, 25, 9, 1, 31, 61, 59, 41, 67, 45, 3, 21, 27, 65, 11, 27, 7, 89, 39, 61, 97, 15, 33, 47, 97, 97, 39, 1, 55, 67, 99, 9, 97, 23, 29, 73, 27, 99, 35, 23, 47, 41, 7, 95, 13, 7, 7, 21, 15, 1, 19, 27, 27, 51, 59, 15, 71, 95, 21, 31, 11, 77, 13, 23, 49, 83, 65, 7, 95, 75, 79, 13, 25, 71, 25, 87, 43, 49, 31, 89, 97, 81, 25, 93, 29, 29, 35, 89, 15, 63, 1, 17, 65, 25, 71, 49, 87, 7, 25, 33, 85, 85, 79, 65]\n"
     ]
    }
   ],
   "source": [
    "Ganjil=[]\n",
    "for nilai in nilaiTugas:\n",
    "    if nilai%2!=0:\n",
    "        Ganjil.append(nilai)\n",
    "print(\"Nilai Ganjil Adalah Sebagai Berikut  \\n\",Ganjil)"
   ]
  },
  {
   "cell_type": "code",
   "execution_count": 4,
   "metadata": {},
   "outputs": [
    {
     "name": "stdout",
     "output_type": "stream",
     "text": [
      "Nilai lebih dari 70 Adalah Sebagai Berikut \n",
      " [79, 85, 73, 86, 83, 81, 71, 71, 84, 83, 97, 78, 94, 76, 90, 89, 84, 94, 97, 78, 84, 97, 86, 97, 90, 99, 97, 73, 99, 82, 95, 86, 82, 71, 95, 80, 77, 86, 83, 98, 95, 75, 79, 71, 87, 88, 74, 89, 97, 81, 86, 93, 72, 89, 71, 72, 87, 85, 85, 79]\n"
     ]
    }
   ],
   "source": [
    "Lebih70 =[]\n",
    "for nilai in nilaiTugas:\n",
    "    if nilai>70:\n",
    "        Lebih70.append(nilai)\n",
    "print(\"Nilai lebih dari 70 Adalah Sebagai Berikut \\n\",Lebih70)"
   ]
  },
  {
   "cell_type": "code",
   "execution_count": 6,
   "metadata": {},
   "outputs": [
    {
     "name": "stdout",
     "output_type": "stream",
     "text": [
      "Rata-rata adalah 45.828\n",
      "Standar Deviasi adalah 27.87605988764262\n"
     ]
    }
   ],
   "source": [
    "# standar deviasi\n",
    "\n",
    "for i in range(len(nilaiTugas)):\n",
    "    nilaiTugas[i]=int(nilaiTugas[i])\n",
    "jumlah= 0\n",
    "for i in range(len(nilaiTugas)):\n",
    "    jumlah+=nilaiTugas[i]    \n",
    "rerata=jumlah/len(nilaiTugas)\n",
    "print(\"Rata-rata adalah\", rerata)\n",
    "\n",
    "sigma=0\n",
    "for i in range(len(nilaiTugas)):\n",
    "    hitung=(nilaiTugas[i]-rerata)**2\n",
    "    sigma+=hitung\n",
    "pembagianN=sigma/(len(nilaiTugas)-1)\n",
    "standarDeviasi=pembagianN**0.5\n",
    "print(\"Standar Deviasi adalah\", standarDeviasi)"
   ]
  },
  {
   "cell_type": "code",
   "execution_count": 7,
   "metadata": {},
   "outputs": [
    {
     "name": "stdout",
     "output_type": "stream",
     "text": [
      "Nilai maksimum = 99\n",
      "Nilai minimum = 1\n"
     ]
    }
   ],
   "source": [
    "#nilai maksimum\n",
    "#nilai minimum\n",
    "\n",
    "print(\"Nilai maksimum =\",max(nilaiTugas))\n",
    "print(\"Nilai minimum =\",min(nilaiTugas))"
   ]
  },
  {
   "cell_type": "code",
   "execution_count": 9,
   "metadata": {},
   "outputs": [
    {
     "name": "stdout",
     "output_type": "stream",
     "text": [
      "Nilai Modus adalah 46\n"
     ]
    }
   ],
   "source": [
    "# modus\n",
    "\n",
    "nilaiModus=nilaiTugas[0]\n",
    "jumlah=nilaiTugas.count(nilaiModus)\n",
    "for n in nilaiTugas:\n",
    "    jumlahN=nilaiTugas.count(n)\n",
    "    if jumlahN>jumlah:\n",
    "        nilaiModus=n\n",
    "        jumlah=jumlahN\n",
    "print(\"Nilai Modus adalah\",nilaiModus)"
   ]
  },
  {
   "cell_type": "markdown",
   "metadata": {},
   "source": [
    "# TUGAS LATIHAN 3 - Word Count\n",
    "\n",
    "Diberikan sebuah paragraf, hitunglah banyak kemunculan masing-masing kata. Contoh : \"Presiden pagi ini melakukan kunjungan ke Jogja\"\n",
    "\n",
    "presiden: 1\n",
    "pagi: 1\n",
    "ini: 1\n",
    "melakukan: 1\n",
    "kunjungan: 1\n",
    "ke: 1\n",
    "jogja: 1\n",
    "hints: Gunakan Dictionary dalam menyimpan word count. Gunakan kata sebagai key, dan jumlah kemunculan sebagai value"
   ]
  },
  {
   "cell_type": "code",
   "execution_count": 10,
   "metadata": {},
   "outputs": [
    {
     "name": "stdout",
     "output_type": "stream",
     "text": [
      "Barcelona berhasil merebut posisi puncak klasemen La Liga Spanyol seusai menang 4-2 atas Sevilla pada pertandingan pekan kesembilan di Stadion Camp Nou, Sabtu (20/10/2018) atau Minggu dini hari WIB. Barcelona membuka keunggulan pada menit ke-2 melalui gol yang dicetak oleh Philippe Coutinho. Lionel Messi menggandakan keunggulan Barcelona, 10 menit berselang.  Namun, nahas bagi Barcelona, karena Messi harus ditarik keluar pada menit ke-26 setelah mengalami cedera. Tanpa Messi, skor 2-0 bertahan hingga babak pertama berakhir.\n"
     ]
    }
   ],
   "source": [
    "paragraf = \"Barcelona berhasil merebut posisi puncak klasemen La Liga Spanyol seusai menang 4-2 atas Sevilla pada pertandingan pekan kesembilan di Stadion Camp Nou, Sabtu (20/10/2018) atau Minggu dini hari WIB. Barcelona membuka keunggulan pada menit ke-2 melalui gol yang dicetak oleh Philippe Coutinho. Lionel Messi menggandakan keunggulan Barcelona, 10 menit berselang.  Namun, nahas bagi Barcelona, karena Messi harus ditarik keluar pada menit ke-26 setelah mengalami cedera. Tanpa Messi, skor 2-0 bertahan hingga babak pertama berakhir.\"\n",
    "print(paragraf)"
   ]
  },
  {
   "cell_type": "code",
   "execution_count": 11,
   "metadata": {},
   "outputs": [
    {
     "name": "stdout",
     "output_type": "stream",
     "text": [
      "barcelona = 4\n",
      "berhasil = 1\n",
      "merebut = 1\n",
      "posisi = 1\n",
      "puncak = 1\n",
      "klasemen = 1\n",
      "la = 1\n",
      "liga = 1\n",
      "spanyol = 1\n",
      "seusai = 1\n",
      "menang = 1\n",
      "4-2 = 1\n",
      "atas = 1\n",
      "sevilla = 1\n",
      "pada = 3\n",
      "pertandingan = 1\n",
      "pekan = 1\n",
      "kesembilan = 1\n",
      "di = 1\n",
      "stadion = 1\n",
      "camp = 1\n",
      "nou = 1\n",
      "sabtu = 1\n",
      "(20/10/2018) = 1\n",
      "atau = 1\n",
      "minggu = 1\n",
      "dini = 1\n",
      "hari = 1\n",
      "wib = 1\n",
      "membuka = 1\n",
      "keunggulan = 2\n",
      "menit = 3\n",
      "ke-2 = 1\n",
      "melalui = 1\n",
      "gol = 1\n",
      "yang = 1\n",
      "dicetak = 1\n",
      "oleh = 1\n",
      "philippe = 1\n",
      "coutinho = 1\n",
      "lionel = 1\n",
      "messi = 3\n",
      "menggandakan = 1\n",
      "10 = 1\n",
      "berselang = 1\n",
      "namun = 1\n",
      "nahas = 1\n",
      "bagi = 1\n",
      "karena = 1\n",
      "harus = 1\n",
      "ditarik = 1\n",
      "keluar = 1\n",
      "ke-26 = 1\n",
      "setelah = 1\n",
      "mengalami = 1\n",
      "cedera = 1\n",
      "tanpa = 1\n",
      "skor = 1\n",
      "2-0 = 1\n",
      "bertahan = 1\n",
      "hingga = 1\n",
      "babak = 1\n",
      "pertama = 1\n",
      "berakhir = 1\n"
     ]
    }
   ],
   "source": [
    "paragraf = paragraf.lower()\n",
    "paragraf = paragraf.replace('.', '')\n",
    "paragraf = paragraf.replace(',', '')\n",
    "\n",
    "listString = paragraf.split()\n",
    "\n",
    "singlet = {}\n",
    "for n in listString:\n",
    "    if n in singlet:\n",
    "        singlet[n]+=1\n",
    "    else:\n",
    "        singlet[n] = 1\n",
    "\n",
    "for n in singlet.items():\n",
    "    print(n[0], \"=\", n[1])"
   ]
  },
  {
   "cell_type": "code",
   "execution_count": null,
   "metadata": {},
   "outputs": [],
   "source": []
  }
 ],
 "metadata": {
  "kernelspec": {
   "display_name": "Python 3",
   "language": "python",
   "name": "python3"
  },
  "language_info": {
   "codemirror_mode": {
    "name": "ipython",
    "version": 3
   },
   "file_extension": ".py",
   "mimetype": "text/x-python",
   "name": "python",
   "nbconvert_exporter": "python",
   "pygments_lexer": "ipython3",
   "version": "3.7.0"
  }
 },
 "nbformat": 4,
 "nbformat_minor": 2
}
